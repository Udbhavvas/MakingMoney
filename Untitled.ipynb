{
 "cells": [
  {
   "cell_type": "code",
   "execution_count": 32,
   "id": "b96630af",
   "metadata": {},
   "outputs": [
    {
     "name": "stdout",
     "output_type": "stream",
     "text": [
      "497\n"
     ]
    }
   ],
   "source": [
    "my_file = open(\"newstocks.txt\", \"r\")\n",
    "  \n",
    "# reading the file\n",
    "data = my_file.read()\n",
    "  \n",
    "# replacing end of line('/n') with ' ' and\n",
    "# splitting the text it further when '.' is seen.\n",
    "data_into_list = data.replace('\\n', ' ').split(\" \")\n",
    "  \n",
    "# printing the data\n",
    "\n",
    "my_file.close()\n",
    "data_into_list[0] = \"MMM\"\n",
    "\n",
    "data_into_list = [i for i in data_into_list if i != '']\n",
    "print(len(data_into_list))"
   ]
  },
  {
   "cell_type": "code",
   "execution_count": 30,
   "id": "469c2fc8",
   "metadata": {},
   "outputs": [],
   "source": [
    "test = \"fv5 <- fv2 %>% mutate(\"\n",
    "for i in data_into_list:\n",
    "    r = i + \"r\"\n",
    "    ry = i + \"ry\"\n",
    "    ryi = i + \"ryi\"\n",
    "    rys = i + \"rys\"\n",
    "    ann = ''\n",
    "    ann = f\"{r} = ({i} - lag({i}, 1))/lag({i}, 1),\\n{ry} = lag({r}, 1),\\n{ryi} = {ry}*di,\\n{rys} = {ry}*ds,\\n\"\n",
    "    test += ann\n",
    "    "
   ]
  },
  {
   "cell_type": "code",
   "execution_count": 1,
   "id": "343b80c0",
   "metadata": {},
   "outputs": [
    {
     "ename": "NameError",
     "evalue": "name 'test' is not defined",
     "output_type": "error",
     "traceback": [
      "\u001b[0;31m---------------------------------------------------------------------------\u001b[0m",
      "\u001b[0;31mNameError\u001b[0m                                 Traceback (most recent call last)",
      "Cell \u001b[0;32mIn[1], line 1\u001b[0m\n\u001b[0;32m----> 1\u001b[0m \u001b[38;5;28mprint\u001b[39m(\u001b[43mtest\u001b[49m)\n",
      "\u001b[0;31mNameError\u001b[0m: name 'test' is not defined"
     ]
    }
   ],
   "source": [
    "print(test)"
   ]
  }
 ],
 "metadata": {
  "kernelspec": {
   "display_name": "Python 3 (ipykernel)",
   "language": "python",
   "name": "python3"
  },
  "language_info": {
   "codemirror_mode": {
    "name": "ipython",
    "version": 3
   },
   "file_extension": ".py",
   "mimetype": "text/x-python",
   "name": "python",
   "nbconvert_exporter": "python",
   "pygments_lexer": "ipython3",
   "version": "3.10.12"
  }
 },
 "nbformat": 4,
 "nbformat_minor": 5
}
